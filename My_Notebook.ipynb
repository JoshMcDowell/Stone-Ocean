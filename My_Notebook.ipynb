{
 "cells": [
  {
   "cell_type": "code",
   "execution_count": 1,
   "id": "f99cab02-35b9-4d36-85fe-b8c6cf3c46d1",
   "metadata": {},
   "outputs": [
    {
     "name": "stdout",
     "output_type": "stream",
     "text": [
      "2\n"
     ]
    }
   ],
   "source": [
    "print(1 + 1)"
   ]
  },
  {
   "cell_type": "code",
   "execution_count": 2,
   "id": "7f934f78-3fee-4128-8b35-df8a875171de",
   "metadata": {},
   "outputs": [
    {
     "name": "stdout",
     "output_type": "stream",
     "text": [
      "2\n"
     ]
    }
   ],
   "source": [
    "print(7-5)"
   ]
  },
  {
   "cell_type": "code",
   "execution_count": 3,
   "id": "0c5d856f-7848-4b99-8c75-9abf1588a73a",
   "metadata": {},
   "outputs": [
    {
     "name": "stdout",
     "output_type": "stream",
     "text": [
      "108\n"
     ]
    }
   ],
   "source": [
    "print(91+17)"
   ]
  },
  {
   "cell_type": "markdown",
   "id": "b8c50f12-c6e1-4d04-97ec-16071836e726",
   "metadata": {},
   "source": []
  },
  {
   "cell_type": "markdown",
   "id": "98e262a9-f844-4083-ad0a-a4c6f72458e2",
   "metadata": {},
   "source": [
    "print(Jolyne)"
   ]
  },
  {
   "cell_type": "code",
   "execution_count": null,
   "id": "cce87a9b-da4b-433c-b370-cb101df6d18f",
   "metadata": {},
   "outputs": [],
   "source": []
  }
 ],
 "metadata": {
  "kernelspec": {
   "display_name": "Python",
   "language": "python",
   "name": "conda-env-python-py"
  },
  "language_info": {
   "codemirror_mode": {
    "name": "ipython",
    "version": 3
   },
   "file_extension": ".py",
   "mimetype": "text/x-python",
   "name": "python",
   "nbconvert_exporter": "python",
   "pygments_lexer": "ipython3",
   "version": "3.6.13"
  }
 },
 "nbformat": 4,
 "nbformat_minor": 5
}
