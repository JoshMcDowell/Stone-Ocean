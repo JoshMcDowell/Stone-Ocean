{
 "cells": [
  {
   "cell_type": "code",
   "execution_count": null,
   "id": "bearing-exposure",
   "metadata": {},
   "outputs": [],
   "source": [
    "def Q1():\n",
    "    print(\"Hello World\")\n",
    "    \n",
    "Q1()"
   ]
  },
  {
   "cell_type": "code",
   "execution_count": null,
   "id": "healthy-appendix",
   "metadata": {},
   "outputs": [],
   "source": [
    "def Q2():\n",
    "    print('Eastern University')\n",
    "\n",
    "Q2()"
   ]
  },
  {
   "cell_type": "code",
   "execution_count": null,
   "id": "loving-attitude",
   "metadata": {},
   "outputs": [],
   "source": [
    "def Q3():\n",
    "    print(5)\n",
    "Q3()"
   ]
  },
  {
   "cell_type": "code",
   "execution_count": null,
   "id": "demographic-formation",
   "metadata": {},
   "outputs": [],
   "source": [
    "def Q4(x):\n",
    "    return x*x\n",
    "\n",
    "Q4(2)"
   ]
  },
  {
   "cell_type": "code",
   "execution_count": null,
   "id": "increased-segment",
   "metadata": {},
   "outputs": [],
   "source": [
    "def Q5(x):\n",
    "    return x*x*x\n",
    "\n",
    "Q5(3)"
   ]
  },
  {
   "cell_type": "code",
   "execution_count": null,
   "id": "legal-diagram",
   "metadata": {},
   "outputs": [],
   "source": [
    "def Q6():\n",
    "    print(\"The arguement is 5\")\n",
    "    \n",
    "Q6()"
   ]
  },
  {
   "cell_type": "code",
   "execution_count": null,
   "id": "rocky-linux",
   "metadata": {},
   "outputs": [],
   "source": [
    "def Q7():\n",
    "    return (10 - 5)\n",
    "Q7()"
   ]
  },
  {
   "cell_type": "code",
   "execution_count": null,
   "id": "behavioral-aggregate",
   "metadata": {},
   "outputs": [],
   "source": [
    "def Q8():\n",
    "    return (1+9+3+4+5)\n",
    "Q8()"
   ]
  },
  {
   "cell_type": "code",
   "execution_count": null,
   "id": "damaged-amateur",
   "metadata": {},
   "outputs": [],
   "source": [
    "def Q9():\n",
    "    g = 0\n",
    "    while g < 5:\n",
    "        print(g)\n",
    "        g = g +1\n",
    "Q9()"
   ]
  }
 ],
 "metadata": {
  "kernelspec": {
   "display_name": "Python 3",
   "language": "python",
   "name": "python3"
  },
  "language_info": {
   "codemirror_mode": {
    "name": "ipython",
    "version": 3
   },
   "file_extension": ".py",
   "mimetype": "text/x-python",
   "name": "python",
   "nbconvert_exporter": "python",
   "pygments_lexer": "ipython3",
   "version": "3.6.13"
  }
 },
 "nbformat": 4,
 "nbformat_minor": 5
}
